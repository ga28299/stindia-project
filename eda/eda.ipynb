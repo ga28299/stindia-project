{
 "cells": [
  {
   "cell_type": "code",
   "execution_count": 1,
   "metadata": {},
   "outputs": [],
   "source": [
    "import pandas as pd\n",
    "import numpy as np\n",
    "\n",
    "# Load data\n",
    "data = pd.read_csv('../data/sti_raw.csv')"
   ]
  },
  {
   "cell_type": "code",
   "execution_count": 2,
   "metadata": {},
   "outputs": [
    {
     "name": "stdout",
     "output_type": "stream",
     "text": [
      "object object\n"
     ]
    }
   ],
   "source": [
    "data.head()\n",
    "print(data['Pitchers State'].dtype,data['Pitchers City'].dtype)"
   ]
  },
  {
   "cell_type": "code",
   "execution_count": 3,
   "metadata": {},
   "outputs": [
    {
     "name": "stdout",
     "output_type": "stream",
     "text": [
      "     Female Presenters  Transgender Presenters  Couple Presenters  \\\n",
      "380                1.0                     NaN                0.0   \n",
      "381                NaN                     NaN                0.0   \n",
      "382                NaN                     NaN                0.0   \n",
      "383                1.0                     NaN                1.0   \n",
      "384                2.0                     NaN                0.0   \n",
      "385                NaN                     NaN                0.0   \n",
      "386                1.0                     NaN                0.0   \n",
      "387                1.0                     NaN                1.0   \n",
      "388                NaN                     NaN                0.0   \n",
      "389                2.0                     NaN                0.0   \n",
      "\n",
      "    Pitchers Average Age Pitchers City  \n",
      "380               Middle        Mumbai  \n",
      "381                Young        Mumbai  \n",
      "382               Middle           NaN  \n",
      "383               Middle     Bangalore  \n",
      "384               Middle         Delhi  \n",
      "385               Middle         Delhi  \n",
      "386               Middle         Delhi  \n",
      "387               Middle     Bangalore  \n",
      "388               Middle     Hyderabad  \n",
      "389               Middle  Delhi,Mumbai  \n"
     ]
    }
   ],
   "source": [
    "print(data.iloc[380:390,15:20])"
   ]
  },
  {
   "cell_type": "code",
   "execution_count": 4,
   "metadata": {},
   "outputs": [
    {
     "name": "stdout",
     "output_type": "stream",
     "text": [
      "float64\n",
      "[nan 20.  1. 10. 25.  6. 34. 15. 55. 16. 40. 30. 21. 28. 38. 19. 18. 26.\n",
      " 35.  5. 24. 13.  3.  8. 23. 11.  4.  7. 45. 17. 50.  9. 12.]\n"
     ]
    }
   ],
   "source": [
    "col='Net Margin'\n",
    "print(data[col].dtype)\n",
    "print(data[col].unique())\n"
   ]
  },
  {
   "cell_type": "code",
   "execution_count": 5,
   "metadata": {},
   "outputs": [
    {
     "data": {
      "text/plain": [
       "Index(['Season Number', 'Startup Name', 'Episode Number', 'Pitch Number',\n",
       "       'Season Start', 'Season End', 'Original Air Date', 'Episode Title',\n",
       "       'Anchor', 'Industry', 'Business Description', 'Company Website',\n",
       "       'Started in', 'Number of Presenters', 'Male Presenters',\n",
       "       'Female Presenters', 'Transgender Presenters', 'Couple Presenters',\n",
       "       'Pitchers Average Age', 'Pitchers City', 'Pitchers State',\n",
       "       'Yearly Revenue', 'Monthly Sales', 'Gross Margin', 'Net Margin',\n",
       "       'EBITDA', 'Cash Burn', 'SKUs', 'Has Patents', 'Bootstrapped',\n",
       "       'Original Ask Amount', 'Original Offered Equity', 'Valuation Requested',\n",
       "       'Received Offer', 'Accepted Offer', 'Total Deal Amount',\n",
       "       'Total Deal Equity', 'Total Deal Debt', 'Debt Interest',\n",
       "       'Deal Valuation', 'Number of Sharks in Deal', 'Deal Has Conditions',\n",
       "       'Royalty Deal', 'Advisory Shares Equity', 'Namita Investment Amount',\n",
       "       'Namita Investment Equity', 'Namita Debt Amount',\n",
       "       'Vineeta Investment Amount', 'Vineeta Investment Equity',\n",
       "       'Vineeta Debt Amount', 'Anupam Investment Amount',\n",
       "       'Anupam Investment Equity', 'Anupam Debt Amount',\n",
       "       'Aman Investment Amount', 'Aman Investment Equity', 'Aman Debt Amount',\n",
       "       'Peyush Investment Amount', 'Peyush Investment Equity',\n",
       "       'Peyush Debt Amount', 'Amit Investment Amount',\n",
       "       'Amit Investment Equity', 'Amit Debt Amount',\n",
       "       'Ashneer Investment Amount', 'Ashneer Investment Equity',\n",
       "       'Ashneer Debt Amount', 'Guest Investment Amount',\n",
       "       'Guest Investment Equity', 'Guest Debt Amount', 'Invested Guest Name',\n",
       "       'All Guest Names', 'Namita Present', 'Vineeta Present',\n",
       "       'Anupam Present', 'Aman Present', 'Peyush Present', 'Amit Present',\n",
       "       'Ashneer Present', 'Guest Present'],\n",
       "      dtype='object')"
      ]
     },
     "execution_count": 5,
     "metadata": {},
     "output_type": "execute_result"
    }
   ],
   "source": [
    "data.columns\n"
   ]
  },
  {
   "cell_type": "code",
   "execution_count": 6,
   "metadata": {},
   "outputs": [],
   "source": [
    "data=data.drop(['Male Presenters',\n",
    "       'Female Presenters', 'Transgender Presenters', 'Couple Presenters','Anchor'],axis=1)"
   ]
  },
  {
   "cell_type": "code",
   "execution_count": 7,
   "metadata": {},
   "outputs": [
    {
     "data": {
      "text/plain": [
       "array(['Ghazal Alagh', 'Vikas D Nahar', 'Deepinder Goyal',\n",
       "       'Ritesh Aggarwal', 'Azhar Iqubal', 'Radhika Gupta',\n",
       "       'Ronnie Screwvala', 'Varun Dua'], dtype=object)"
      ]
     },
     "execution_count": 7,
     "metadata": {},
     "output_type": "execute_result"
    }
   ],
   "source": [
    "guest_names=data['All Guest Names'].dropna().str.split(',').explode().unique()\n",
    "guest_names"
   ]
  },
  {
   "cell_type": "code",
   "execution_count": 8,
   "metadata": {},
   "outputs": [
    {
     "name": "stdout",
     "output_type": "stream",
     "text": [
      "Index(['Season Number', 'Startup Name', 'Episode Number', 'Pitch Number',\n",
      "       'Season Start', 'Season End', 'Original Air Date', 'Episode Title',\n",
      "       'Industry', 'Business Description', 'Company Website', 'Started in',\n",
      "       'Number of Presenters', 'Pitchers Average Age', 'Pitchers City',\n",
      "       'Pitchers State', 'Yearly Revenue', 'Monthly Sales', 'Gross Margin',\n",
      "       'Net Margin', 'EBITDA', 'Cash Burn', 'SKUs', 'Has Patents',\n",
      "       'Bootstrapped', 'Original Ask Amount', 'Original Offered Equity',\n",
      "       'Valuation Requested', 'Received Offer', 'Accepted Offer',\n",
      "       'Total Deal Amount', 'Total Deal Equity', 'Total Deal Debt',\n",
      "       'Debt Interest', 'Deal Valuation', 'Number of Sharks in Deal',\n",
      "       'Deal Has Conditions', 'Royalty Deal', 'Advisory Shares Equity',\n",
      "       'Namita Investment Amount', 'Namita Investment Equity',\n",
      "       'Namita Debt Amount', 'Vineeta Investment Amount',\n",
      "       'Vineeta Investment Equity', 'Vineeta Debt Amount',\n",
      "       'Anupam Investment Amount', 'Anupam Investment Equity',\n",
      "       'Anupam Debt Amount', 'Aman Investment Amount',\n",
      "       'Aman Investment Equity', 'Aman Debt Amount',\n",
      "       'Peyush Investment Amount', 'Peyush Investment Equity',\n",
      "       'Peyush Debt Amount', 'Amit Investment Amount',\n",
      "       'Amit Investment Equity', 'Amit Debt Amount',\n",
      "       'Ashneer Investment Amount', 'Ashneer Investment Equity',\n",
      "       'Ashneer Debt Amount', 'Guest Investment Amount',\n",
      "       'Guest Investment Equity', 'Guest Debt Amount', 'Invested Guest Name',\n",
      "       'All Guest Names', 'Namita Present', 'Vineeta Present',\n",
      "       'Anupam Present', 'Aman Present', 'Peyush Present', 'Amit Present',\n",
      "       'Ashneer Present', 'Guest Present'],\n",
      "      dtype='object')\n"
     ]
    }
   ],
   "source": [
    "print(data.columns)"
   ]
  },
  {
   "cell_type": "code",
   "execution_count": 9,
   "metadata": {},
   "outputs": [
    {
     "name": "stdout",
     "output_type": "stream",
     "text": [
      "['Ghazal Alagh'] 1\n",
      "['Ghazal Alagh'] 1\n",
      "['Ghazal Alagh'] 1\n",
      "['Ghazal Alagh'] 1\n",
      "['Ghazal Alagh'] 1\n",
      "['Ghazal Alagh'] 1\n",
      "['Ghazal Alagh'] 1\n",
      "['Ghazal Alagh'] 1\n",
      "['Vikas D Nahar'] 1\n",
      "['Vikas D Nahar'] 1\n",
      "['Ritesh Aggarwal'] 1\n",
      "['Ritesh Aggarwal'] 1\n",
      "['Azhar Iqubal'] 1\n",
      "['Azhar Iqubal'] 1\n",
      "['Ritesh Aggarwal', 'Radhika Gupta'] 2\n",
      "['Deepinder Goyal'] 1\n",
      "['Ritesh Aggarwal'] 1\n",
      "['Ritesh Aggarwal'] 1\n",
      "['Ritesh Aggarwal'] 1\n",
      "['Ritesh Aggarwal', 'Radhika Gupta'] 2\n",
      "['Ritesh Aggarwal'] 1\n",
      "['Ritesh Aggarwal'] 1\n",
      "['Ronnie Screwvala'] 1\n",
      "['Ronnie Screwvala'] 1\n",
      "['Ritesh Aggarwal'] 1\n",
      "['Ritesh Aggarwal'] 1\n",
      "['Azhar Iqubal'] 1\n",
      "['Varun Dua', 'Radhika Gupta'] 2\n",
      "['Varun Dua'] 1\n",
      "['Azhar Iqubal'] 1\n",
      "['Ritesh Aggarwal'] 1\n",
      "['Ritesh Aggarwal'] 1\n",
      "['Ritesh Aggarwal'] 1\n",
      "['Ritesh Aggarwal', 'Radhika Gupta'] 2\n",
      "['Ritesh Aggarwal'] 1\n",
      "['Ritesh Aggarwal'] 1\n",
      "['Ritesh Aggarwal'] 1\n",
      "['Ritesh Aggarwal'] 1\n",
      "['Ritesh Aggarwal'] 1\n",
      "['Ritesh Aggarwal'] 1\n",
      "['Ritesh Aggarwal'] 1\n",
      "['Ritesh Aggarwal'] 1\n",
      "['Ritesh Aggarwal'] 1\n",
      "['Ritesh Aggarwal'] 1\n",
      "['Ritesh Aggarwal'] 1\n",
      "['Azhar Iqubal'] 1\n",
      "['Radhika Gupta'] 1\n",
      "['Azhar Iqubal', 'Radhika Gupta'] 2\n"
     ]
    }
   ],
   "source": [
    "for index, row in data.iterrows():\n",
    "    if pd.notna(row['Invested Guest Name']):\n",
    "        guests = row['Invested Guest Name'].split(',')\n",
    "        num_guest_investors=len(guests)\n",
    "        print(guests,num_guest_investors)\n",
    "        for guest in guests:\n",
    "            guest_name = guest.strip().split(\" \")[0]\n",
    "            data.at[index, f'{guest_name} Investment Amount'] = row['Guest Investment Amount']/num_guest_investors\n",
    "            data.at[index, f'{guest_name} Investment Equity'] = row['Guest Investment Equity']/num_guest_investors\n",
    "            data.at[index, f'{guest_name} Debt Amount'] = row['Guest Debt Amount']/num_guest_investors\n",
    "            data.at[index, f'{guest_name} Present'] = 1"
   ]
  },
  {
   "cell_type": "code",
   "execution_count": 10,
   "metadata": {},
   "outputs": [
    {
     "data": {
      "text/plain": [
       "array(['Food', 'Vehicles/Electrical Vehicles', 'Beauty/Fashion',\n",
       "       'Education', 'Agriculture', 'Medical/Health', 'Manufacturing',\n",
       "       'Technology/Software', 'Electronics', 'Animal/Pets', 'Services',\n",
       "       'Hardware', 'Sports', 'Liquor/Beverages', 'Entertainment',\n",
       "       'Furnishing/Household', 'Others'], dtype=object)"
      ]
     },
     "execution_count": 10,
     "metadata": {},
     "output_type": "execute_result"
    }
   ],
   "source": [
    "data['Industry'].unique()"
   ]
  },
  {
   "cell_type": "code",
   "execution_count": 11,
   "metadata": {},
   "outputs": [],
   "source": [
    "data['Pitchers City'] = data['Pitchers City'].astype(str).apply(lambda x: x.split(',')[0].strip())\n",
    "data['Pitchers State'] = data['Pitchers State'].astype(str).apply(lambda x: x.split(',')[0])"
   ]
  },
  {
   "cell_type": "code",
   "execution_count": null,
   "metadata": {},
   "outputs": [],
   "source": []
  },
  {
   "cell_type": "code",
   "execution_count": 12,
   "metadata": {},
   "outputs": [],
   "source": [
    "data.to_csv(\"../data/updated.csv\",index=False)"
   ]
  },
  {
   "cell_type": "code",
   "execution_count": 13,
   "metadata": {},
   "outputs": [
    {
     "data": {
      "text/plain": [
       "dtype('O')"
      ]
     },
     "execution_count": 13,
     "metadata": {},
     "output_type": "execute_result"
    }
   ],
   "source": [
    "data['Pitchers State'].dtype"
   ]
  }
 ],
 "metadata": {
  "kernelspec": {
   "display_name": "snowpark",
   "language": "python",
   "name": "python3"
  },
  "language_info": {
   "codemirror_mode": {
    "name": "ipython",
    "version": 3
   },
   "file_extension": ".py",
   "mimetype": "text/x-python",
   "name": "python",
   "nbconvert_exporter": "python",
   "pygments_lexer": "ipython3",
   "version": "3.10.14"
  }
 },
 "nbformat": 4,
 "nbformat_minor": 2
}
